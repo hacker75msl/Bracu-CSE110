{
  "nbformat": 4,
  "nbformat_minor": 0,
  "metadata": {
    "colab": {
      "name": "sort.ipynb",
      "provenance": [],
      "collapsed_sections": []
    },
    "kernelspec": {
      "name": "python3",
      "display_name": "Python 3"
    },
    "language_info": {
      "name": "python"
    }
  },
  "cells": [
    {
      "cell_type": "markdown",
      "source": [
        "### CSE110 Lab Assignment no: 7 (Searching-Sorting)\n",
        "\n"
      ],
      "metadata": {
        "id": "MrMAmK9zk4ub"
      }
    },
    {
      "cell_type": "code",
      "source": [
        "#Write your name, student ID and theory section number below:\n",
        "#Student Name: MD MOSTAFIJUR RAHMAN\n",
        "#Student ID: 22101721\n",
        "#CSE110 Theory Section No:29"
      ],
      "metadata": {
        "id": "6Fj3iKXAlM_F"
      },
      "execution_count": null,
      "outputs": []
    },
    {
      "cell_type": "code",
      "source": [
        "#task1\n",
        "my_list = [10, 1, 20, 3, 6, 2, 5, 11, 15, 2, 12, 14, 17, 18, 29]\n",
        "my_list.sort()\n",
        "print(my_list)"
      ],
      "metadata": {
        "id": "UOMetMU9k2VM",
        "colab": {
          "base_uri": "https://localhost:8080/"
        },
        "outputId": "277b7762-35f5-4ead-8151-a83efd62d986"
      },
      "execution_count": 1,
      "outputs": [
        {
          "output_type": "stream",
          "name": "stdout",
          "text": [
            "[1, 2, 2, 3, 5, 6, 10, 11, 12, 14, 15, 17, 18, 20, 29]\n"
          ]
        }
      ]
    },
    {
      "cell_type": "code",
      "source": [
        "#task2\n",
        "my_list= [10, 1, 20, 3, 6, 2, 5, 11, 15, 2, 12, 14, 17, 18, 29]\n",
        "for i in range(0,len(my_list)-1):\n",
        "  min_value=my_list[i]\n",
        "  min_index=i\n",
        "  for j in range(i+1,len(my_list)):\n",
        "    if my_list[j]<min_value:\n",
        "      min_value=my_list[j]\n",
        "      min_index=j\n",
        "  tmp=min_value\n",
        "  my_list[min_index]=my_list[i]\n",
        "  my_list[i]=tmp\n",
        "print(my_list)"
      ],
      "metadata": {
        "colab": {
          "base_uri": "https://localhost:8080/"
        },
        "id": "yPX66nQmFeag",
        "outputId": "773917af-4f70-4443-c747-1cece2c44391"
      },
      "execution_count": 2,
      "outputs": [
        {
          "output_type": "stream",
          "name": "stdout",
          "text": [
            "[1, 2, 2, 3, 5, 6, 10, 11, 12, 14, 15, 17, 18, 20, 29]\n"
          ]
        }
      ]
    },
    {
      "cell_type": "code",
      "source": [
        "#task3\n",
        "my_list = [10, 1, 20, 3, 6, 2, 5, 11, 15, 2, 12, 14, 17, 18, 29]\n",
        "for i in my_list:\n",
        "  my_list.sort()\n",
        "my_list.reverse()\n",
        "print(my_list)\n",
        "\n",
        "#Another way by selection sort with index reverse\n",
        "\n",
        "my_list= [10, 1, 20, 3, 6, 2, 5, 11, 15, 2, 12, 14, 17, 18, 29]\n",
        "for i in range(0,len(my_list)-1):\n",
        "  min_value=my_list[i]\n",
        "  min_index=i\n",
        "  for j in range(i+1, len(my_list)):\n",
        "    if my_list[j]<min_value:\n",
        "      min_value=my_list[j]\n",
        "      min_index=j\n",
        "  tmp=min_value\n",
        "  my_list[min_index]=my_list[i]\n",
        "  my_list[i]=tmp\n",
        "  reverse = my_list[::-1]\n",
        "print(reverse)"
      ],
      "metadata": {
        "id": "cjvemXMVFegH",
        "colab": {
          "base_uri": "https://localhost:8080/"
        },
        "outputId": "d424cb1f-b597-4d0a-c770-f51ee58f8d74"
      },
      "execution_count": 3,
      "outputs": [
        {
          "output_type": "stream",
          "name": "stdout",
          "text": [
            "[29, 20, 18, 17, 15, 14, 12, 11, 10, 6, 5, 3, 2, 2, 1]\n",
            "[29, 20, 18, 17, 15, 14, 12, 11, 10, 6, 5, 3, 2, 2, 1]\n"
          ]
        }
      ]
    },
    {
      "cell_type": "code",
      "source": [
        "#task4\n",
        "sitting_list=[10,30,20,70,11,15,22,16,58,100,12,56,70,80]\n",
        "even_list = []\n",
        "odd_list = []\n",
        "final = []\n",
        "\n",
        "for val1 in range(len(sitting_list)):\n",
        "    if val1 % 2==0:\n",
        "        even_list.append(sitting_list[val1])\n",
        "    else:\n",
        "        odd_list.append(sitting_list[val1])\n",
        "\n",
        "for i in range(len(even_list)):\n",
        "    maxx = even_list[i]\n",
        "    maxx_index = i\n",
        "    for j in range(i+1,len(even_list)):\n",
        "        if even_list[j] < maxx:\n",
        "            maxx = even_list[j]\n",
        "            maxx_index = j\n",
        "    even_list[i],even_list[maxx_index] = even_list[maxx_index],even_list[i]\n",
        "\n",
        "for index2 in range(len(odd_list)):\n",
        "    minn = odd_list[index2]\n",
        "    min_index2 = index2\n",
        "    for y in range(index2+1,len(odd_list)):\n",
        "        if odd_list[y] > minn:\n",
        "            minn = odd_list[y]\n",
        "            minn_index2 = y\n",
        "    odd_list[index2],odd_list[minn_index2]=odd_list[minn_index2],odd_list[index2]\n",
        "\n",
        "for x in range(len(even_list)):\n",
        "    final.append(even_list[x])\n",
        "    final.append(odd_list[x])\n",
        "\n",
        "print(final)"
      ],
      "metadata": {
        "id": "-CMIs3mbFejY",
        "colab": {
          "base_uri": "https://localhost:8080/"
        },
        "outputId": "86b0d398-fa37-4794-8d4f-7f167ee6ab9d"
      },
      "execution_count": 4,
      "outputs": [
        {
          "output_type": "stream",
          "name": "stdout",
          "text": [
            "[10, 100, 11, 80, 12, 70, 20, 56, 22, 16, 58, 15, 70, 30]\n"
          ]
        }
      ]
    },
    {
      "cell_type": "code",
      "source": [
        "#task5\n",
        "course_name=input()\n",
        "\n",
        "\n",
        "def sortted(strn):\n",
        "  sub=0\n",
        "  lst = [[\"Alan\", 95, 87, 91], [\"Turing\", 92, 90, 83], [\"Elon\", 87, 92, 80], [\"Musk\", 85, 94, 90]]\n",
        "  if strn==\"CSE110\":\n",
        "    sub= 1\n",
        "  if sub==\"PHY110\":\n",
        "    sub= 2\n",
        "  if strn==\"MAT110\":\n",
        "    sub= 3\n",
        "  name_list=[]\n",
        "  sub_list=[]\n",
        "  lenth=len(lst)\n",
        "  for valu in range(lenth):\n",
        "    name_list.append(lst[valu][0])\n",
        "    sub_list.append(lst[valu][sub])\n",
        "  dic={}\n",
        "  sub_list_len=len(sub_list)\n",
        "  for i in range(sub_list_len):\n",
        "    dic[sub_list[i]]=name_list[i]\n",
        "  for i in range(sub_list_len):\n",
        "    max_index=i\n",
        "    for j in range(i+1,sub_list_len):\n",
        "      if sub_list[j]>sub_list[max_index]:\n",
        "        max_index=j\n",
        "    sub_list[i],sub_list[max_index]=sub_list[max_index],sub_list[i]\n",
        "  for k in range(sub_list_len):\n",
        "    print(dic[sub_list[k]])\n",
        "sortted(course_name)"
      ],
      "metadata": {
        "id": "HCiJLmKDFemg",
        "colab": {
          "base_uri": "https://localhost:8080/"
        },
        "outputId": "26329267-ef2e-45c2-9d49-255c72950362"
      },
      "execution_count": 5,
      "outputs": [
        {
          "output_type": "stream",
          "name": "stdout",
          "text": [
            "MAT110\n",
            "Alan\n",
            "Musk\n",
            "Turing\n",
            "Elon\n"
          ]
        }
      ]
    },
    {
      "cell_type": "code",
      "source": [
        "# Task- 06\n",
        "def st(lit2):\n",
        "    lit1 = lit2.copy()\n",
        "    chg_position = 0\n",
        "\n",
        "    for i in range(len(lit1)):\n",
        "        for j in range(len(lit1)-i-1):\n",
        "            if lit1[j] > lit1[j+1]:\n",
        "                lit1[j], lit1[j+1] = lit1[j+1], lit1[j]\n",
        "    for k in range(len(lit1)):\n",
        "        if lit1[k] != lit2[k]:\n",
        "            chg_position = chg_position+1\n",
        "    return chg_position\n",
        "my_list = [4, 2, 3, 1, 6, 5]\n",
        "print(\"Times position changed:\", st(my_list))"
      ],
      "metadata": {
        "id": "uNmcJs4XFetf",
        "colab": {
          "base_uri": "https://localhost:8080/"
        },
        "outputId": "32987ac0-67f1-4409-ae44-266139f0fa23"
      },
      "execution_count": 21,
      "outputs": [
        {
          "output_type": "stream",
          "name": "stdout",
          "text": [
            "Times position changed: 4\n"
          ]
        }
      ]
    },
    {
      "cell_type": "code",
      "source": [
        "#Task7\n",
        "list_one = []\n",
        "list_two = []\n",
        "\n",
        "list_one_value = int(input(\"Enter lenth:\"))\n",
        "for list1 in range(list_one_value):\n",
        "    list1_value = int(input(\"Enter values: \"))\n",
        "    list_one.append(list1_value)\n",
        "list_two_value = int(input(\"Enter lenth: \"))\n",
        "for list2 in range(list_two_value):\n",
        "    list2_value = int(input(\"Enter values: \"))\n",
        "    list_two.append(list2_value)\n",
        "\n",
        "mrg_list=list_one+list_two\n",
        "s_list=sorted(mrg_list)\n",
        "print(\"Sorted list =\",s_list)\n",
        "len_s_list=len(s_list)\n",
        "if len_s_list%2==0:\n",
        "  mid_index=int(len_s_list/2)\n",
        "  mid_index2=int(mid_index-1)\n",
        "  median=(s_list[mid_index]+s_list[mid_index2])/2\n",
        "  print(\"Median:\",median)\n",
        "else:\n",
        "  mid_idx=int(((len_s_list)-1)/2)\n",
        "  median=s_list[mid_idx]\n",
        "  print(\"Median:\",median)"
      ],
      "metadata": {
        "id": "GOPmXoZIFe1P",
        "colab": {
          "base_uri": "https://localhost:8080/"
        },
        "outputId": "07078280-02ac-43f1-ac25-764cac4870fe"
      },
      "execution_count": 14,
      "outputs": [
        {
          "output_type": "stream",
          "name": "stdout",
          "text": [
            "Enter lenth:4\n",
            "Enter values: 1\n",
            "Enter values: 2\n",
            "Enter values: 1\n",
            "Enter values: 4\n",
            "Enter lenth: 3\n",
            "Enter values: 5\n",
            "Enter values: 4\n",
            "Enter values: 1\n",
            "Sorted list = [1, 1, 1, 2, 4, 4, 5]\n",
            "Median: 2\n"
          ]
        }
      ]
    },
    {
      "cell_type": "code",
      "source": [
        "#Task8\n",
        "list_one = []\n",
        "list_one_value = int(input(\"Enter lenth:\"))\n",
        "for list1 in range(list_one_value):\n",
        "    list1_value = int(input(\"Enter values: \"))\n",
        "    list_one.append(list1_value)\n",
        "print(\"list_one=\",list_one)\n",
        "len_list_one=len(list_one)\n",
        "ist_index=0\n",
        "snd_index=1\n",
        "z_sum=abs(list_one[ist_index]+list_one[snd_index])\n",
        "for n in range(0,len_list_one-1):\n",
        "  for vlu in range(n+1,len_list_one):\n",
        "    sum=abs(list_one[n]+list_one[vlu])\n",
        "    if z_sum>sum:\n",
        "      z_sum=sum\n",
        "      ist_index=n\n",
        "      snd_index=vlu\n",
        "print(f\"Two pairs which have the smallest sum = {list_one[ist_index]} and {list_one[snd_index]}\")"
      ],
      "metadata": {
        "colab": {
          "base_uri": "https://localhost:8080/"
        },
        "id": "kRXqX96mxLSG",
        "outputId": "f3af6f14-1824-406d-beba-12bea69b2d25"
      },
      "execution_count": 15,
      "outputs": [
        {
          "output_type": "stream",
          "name": "stdout",
          "text": [
            "Enter lenth:7\n",
            "Enter values: -10\n",
            "Enter values: 15\n",
            "Enter values: 2\n",
            "Enter values: 4\n",
            "Enter values: -4\n",
            "Enter values: 7\n",
            "Enter values: -8\n",
            "list_one= [-10, 15, 2, 4, -4, 7, -8]\n",
            "Two pairs which have the smallest sum = 4 and -4\n"
          ]
        }
      ]
    },
    {
      "cell_type": "code",
      "source": [
        "#task9\n",
        "import math\n",
        "distance_list=[]\n",
        "def po(points):\n",
        "  for x in points:\n",
        "    m,n =x\n",
        "    distance = math.sqrt((m**2 + n**2))\n",
        "    distance_list.append(distance)\n",
        "    min_dis=sorted(distance_list)\n",
        "  print(\"Minimum distance =\",min_dis[0])\n",
        "  for y in points:\n",
        "    i,j =y\n",
        "    if math.sqrt(i**2 + j**2) == min_dis[0]:\n",
        "      print(f\"Here the closest point is {y} which has a distance of {min_dis[0]} from the origin\")\n",
        "po([(5,3), (2,9), (-2,7), (-3,-4), (0,6), (7,-2)])"
      ],
      "metadata": {
        "id": "fD9HXcyY2TP6",
        "colab": {
          "base_uri": "https://localhost:8080/"
        },
        "outputId": "1ffaa8cb-1f4e-450b-b272-56189284f12b"
      },
      "execution_count": 16,
      "outputs": [
        {
          "output_type": "stream",
          "name": "stdout",
          "text": [
            "Minimum distance = 5.0\n",
            "Here the closest point is (-3, -4) which has a distance of 5.0 from the origin\n"
          ]
        }
      ]
    },
    {
      "cell_type": "code",
      "source": [
        ""
      ],
      "metadata": {
        "id": "bi8ggIIyCSOo"
      },
      "execution_count": null,
      "outputs": []
    },
    {
      "cell_type": "code",
      "source": [
        "\n"
      ],
      "metadata": {
        "id": "9lsDM3DMCW_H"
      },
      "execution_count": null,
      "outputs": []
    },
    {
      "cell_type": "code",
      "source": [
        ""
      ],
      "metadata": {
        "id": "mLHweURNDAaf"
      },
      "execution_count": null,
      "outputs": []
    }
  ]
}